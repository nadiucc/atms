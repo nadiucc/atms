{
  "nbformat": 4,
  "nbformat_minor": 0,
  "metadata": {
    "colab": {
      "name": "ATMS.ipynb",
      "provenance": [],
      "authorship_tag": "ABX9TyNHfH531Y5nn80iI3XTxdaT",
      "include_colab_link": true
    },
    "kernelspec": {
      "name": "python3",
      "display_name": "Python 3"
    },
    "language_info": {
      "name": "python"
    }
  },
  "cells": [
    {
      "cell_type": "markdown",
      "metadata": {
        "id": "view-in-github",
        "colab_type": "text"
      },
      "source": [
        "<a href=\"https://colab.research.google.com/github/nadiucc/atms/blob/main/ATMS.ipynb\" target=\"_parent\"><img src=\"https://colab.research.google.com/assets/colab-badge.svg\" alt=\"Open In Colab\"/></a>"
      ]
    },
    {
      "cell_type": "code",
      "metadata": {
        "id": "ECUqACZSXzfI"
      },
      "source": [
        "!pip install -U -q PyDrive\n",
        "\n",
        "from pydrive.auth import GoogleAuth\n",
        "from pydrive.drive import GoogleDrive\n",
        "from google.colab import auth\n",
        "from oauth2client.client import GoogleCredentials\n",
        "\n",
        "\n",
        "# Authenticate and create the PyDrive client.\n",
        "auth.authenticate_user()\n",
        "gauth = GoogleAuth()\n",
        "gauth.credentials = GoogleCredentials.get_application_default()\n",
        "drive = GoogleDrive(gauth)\n"
      ],
      "execution_count": 5,
      "outputs": []
    },
    {
      "cell_type": "code",
      "metadata": {
        "colab": {
          "base_uri": "https://localhost:8080/"
        },
        "id": "jqFiYdBaZxpd",
        "outputId": "b643c1a5-a1b1-4261-f89b-1b93c34b08bd"
      },
      "source": [
        "link = 'https://drive.google.com/file/d/1DYra8AOCFfysrxLZ6HD7e4cXxPhW0Ias/view?usp=sharing'\n",
        "\n",
        "import pandas as pd\n",
        "  \n",
        "# to get the id part of the file\n",
        "id = link.split(\"/\")[-2]\n",
        "  \n",
        "downloaded = drive.CreateFile({'id':id}) \n",
        "downloaded.GetContentFile('xclara.csv')  \n",
        "  \n",
        "df = pd.read_csv('xclara.csv')\n",
        "print(df)"
      ],
      "execution_count": 6,
      "outputs": [
        {
          "output_type": "stream",
          "name": "stdout",
          "text": [
            "           EventId  Type  Severity  ...    County State  ZipCode\n",
            "0              W-1  Snow     Light  ...  Saguache    CO  81149.0\n",
            "1              W-2  Snow     Light  ...  Saguache    CO  81149.0\n",
            "2              W-3  Snow     Light  ...  Saguache    CO  81149.0\n",
            "3              W-4  Snow     Light  ...  Saguache    CO  81149.0\n",
            "4              W-5  Snow     Light  ...  Saguache    CO  81149.0\n",
            "...            ...   ...       ...  ...       ...   ...      ...\n",
            "6274201  W-6276144  Snow     Light  ...   Fremont    WY  82520.0\n",
            "6274202  W-6276145  Snow  Moderate  ...   Fremont    WY  82520.0\n",
            "6274203  W-6276146  Snow     Light  ...   Fremont    WY  82520.0\n",
            "6274204  W-6276147  Snow     Light  ...   Fremont    WY  82520.0\n",
            "6274205  W-6276148  Snow     Light  ...   Fremont    WY  82520.0\n",
            "\n",
            "[6274206 rows x 13 columns]\n"
          ]
        }
      ]
    }
  ]
}